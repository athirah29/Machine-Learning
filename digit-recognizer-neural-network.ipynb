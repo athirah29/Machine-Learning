{
 "cells": [
  {
   "cell_type": "code",
   "execution_count": 1,
   "id": "d00b1e4e",
   "metadata": {
    "_cell_guid": "b1076dfc-b9ad-4769-8c92-a6c4dae69d19",
    "_uuid": "8f2839f25d086af736a60e9eeb907d3b93b6e0e5",
    "execution": {
     "iopub.execute_input": "2024-07-22T15:27:08.008463Z",
     "iopub.status.busy": "2024-07-22T15:27:08.007630Z",
     "iopub.status.idle": "2024-07-22T15:27:08.015324Z",
     "shell.execute_reply": "2024-07-22T15:27:08.014331Z",
     "shell.execute_reply.started": "2024-06-21T06:41:53.924715Z"
    },
    "papermill": {
     "duration": 0.051733,
     "end_time": "2024-07-22T15:27:08.015580",
     "exception": false,
     "start_time": "2024-07-22T15:27:07.963847",
     "status": "completed"
    },
    "tags": []
   },
   "outputs": [
    {
     "name": "stdout",
     "output_type": "stream",
     "text": [
      "/kaggle/input/digit-recognizer/sample_submission.csv\n",
      "/kaggle/input/digit-recognizer/train.csv\n",
      "/kaggle/input/digit-recognizer/test.csv\n"
     ]
    }
   ],
   "source": [
    "# This Python 3 environment comes with many helpful analytics libraries installed\n",
    "# It is defined by the kaggle/python Docker image: https://github.com/kaggle/docker-python\n",
    "# For example, here's several helpful packages to load\n",
    "\n",
    "import numpy as np # linear algebra\n",
    "import pandas as pd # data processing, CSV file I/O (e.g. pd.read_csv)\n",
    "\n",
    "# Input data files are available in the read-only \"../input/\" directory\n",
    "# For example, running this (by clicking run or pressing Shift+Enter) will list all files under the input directory\n",
    "\n",
    "import os\n",
    "for dirname, _, filenames in os.walk('/kaggle/input'):\n",
    "    for filename in filenames:\n",
    "        print(os.path.join(dirname, filename))\n",
    "\n",
    "# You can write up to 20GB to the current directory (/kaggle/working/) that gets preserved as output when you create a version using \"Save & Run All\" \n",
    "# You can also write temporary files to /kaggle/temp/, but they won't be saved outside of the current session"
   ]
  },
  {
   "cell_type": "code",
   "execution_count": 2,
   "id": "7fa34180",
   "metadata": {
    "execution": {
     "iopub.execute_input": "2024-07-22T15:27:08.085948Z",
     "iopub.status.busy": "2024-07-22T15:27:08.085027Z",
     "iopub.status.idle": "2024-07-22T15:27:13.714171Z",
     "shell.execute_reply": "2024-07-22T15:27:13.713511Z",
     "shell.execute_reply.started": "2024-06-21T06:42:09.516437Z"
    },
    "papermill": {
     "duration": 5.667737,
     "end_time": "2024-07-22T15:27:13.714336",
     "exception": false,
     "start_time": "2024-07-22T15:27:08.046599",
     "status": "completed"
    },
    "tags": []
   },
   "outputs": [],
   "source": [
    "import numpy as np # linear algebra\n",
    "import pandas as pd\n",
    "import tensorflow as tf\n",
    "from tensorflow import keras\n",
    "import matplotlib.pyplot as plt"
   ]
  },
  {
   "cell_type": "code",
   "execution_count": 3,
   "id": "548bf623",
   "metadata": {
    "execution": {
     "iopub.execute_input": "2024-07-22T15:27:13.780922Z",
     "iopub.status.busy": "2024-07-22T15:27:13.779850Z",
     "iopub.status.idle": "2024-07-22T15:27:14.700241Z",
     "shell.execute_reply": "2024-07-22T15:27:14.700859Z",
     "shell.execute_reply.started": "2024-06-21T06:42:21.542017Z"
    },
    "papermill": {
     "duration": 0.956814,
     "end_time": "2024-07-22T15:27:14.701085",
     "exception": false,
     "start_time": "2024-07-22T15:27:13.744271",
     "status": "completed"
    },
    "tags": []
   },
   "outputs": [],
   "source": [
    "from sklearn.model_selection import train_test_split"
   ]
  },
  {
   "cell_type": "code",
   "execution_count": 4,
   "id": "ef3bd5ec",
   "metadata": {
    "execution": {
     "iopub.execute_input": "2024-07-22T15:27:14.768255Z",
     "iopub.status.busy": "2024-07-22T15:27:14.767336Z",
     "iopub.status.idle": "2024-07-22T15:27:18.856707Z",
     "shell.execute_reply": "2024-07-22T15:27:18.857285Z",
     "shell.execute_reply.started": "2024-06-21T06:42:27.361729Z"
    },
    "papermill": {
     "duration": 4.124883,
     "end_time": "2024-07-22T15:27:18.857495",
     "exception": false,
     "start_time": "2024-07-22T15:27:14.732612",
     "status": "completed"
    },
    "tags": []
   },
   "outputs": [
    {
     "data": {
      "text/html": [
       "<div>\n",
       "<style scoped>\n",
       "    .dataframe tbody tr th:only-of-type {\n",
       "        vertical-align: middle;\n",
       "    }\n",
       "\n",
       "    .dataframe tbody tr th {\n",
       "        vertical-align: top;\n",
       "    }\n",
       "\n",
       "    .dataframe thead th {\n",
       "        text-align: right;\n",
       "    }\n",
       "</style>\n",
       "<table border=\"1\" class=\"dataframe\">\n",
       "  <thead>\n",
       "    <tr style=\"text-align: right;\">\n",
       "      <th></th>\n",
       "      <th>label</th>\n",
       "      <th>pixel0</th>\n",
       "      <th>pixel1</th>\n",
       "      <th>pixel2</th>\n",
       "      <th>pixel3</th>\n",
       "      <th>pixel4</th>\n",
       "      <th>pixel5</th>\n",
       "      <th>pixel6</th>\n",
       "      <th>pixel7</th>\n",
       "      <th>pixel8</th>\n",
       "      <th>...</th>\n",
       "      <th>pixel774</th>\n",
       "      <th>pixel775</th>\n",
       "      <th>pixel776</th>\n",
       "      <th>pixel777</th>\n",
       "      <th>pixel778</th>\n",
       "      <th>pixel779</th>\n",
       "      <th>pixel780</th>\n",
       "      <th>pixel781</th>\n",
       "      <th>pixel782</th>\n",
       "      <th>pixel783</th>\n",
       "    </tr>\n",
       "  </thead>\n",
       "  <tbody>\n",
       "    <tr>\n",
       "      <th>0</th>\n",
       "      <td>1</td>\n",
       "      <td>0</td>\n",
       "      <td>0</td>\n",
       "      <td>0</td>\n",
       "      <td>0</td>\n",
       "      <td>0</td>\n",
       "      <td>0</td>\n",
       "      <td>0</td>\n",
       "      <td>0</td>\n",
       "      <td>0</td>\n",
       "      <td>...</td>\n",
       "      <td>0</td>\n",
       "      <td>0</td>\n",
       "      <td>0</td>\n",
       "      <td>0</td>\n",
       "      <td>0</td>\n",
       "      <td>0</td>\n",
       "      <td>0</td>\n",
       "      <td>0</td>\n",
       "      <td>0</td>\n",
       "      <td>0</td>\n",
       "    </tr>\n",
       "    <tr>\n",
       "      <th>1</th>\n",
       "      <td>0</td>\n",
       "      <td>0</td>\n",
       "      <td>0</td>\n",
       "      <td>0</td>\n",
       "      <td>0</td>\n",
       "      <td>0</td>\n",
       "      <td>0</td>\n",
       "      <td>0</td>\n",
       "      <td>0</td>\n",
       "      <td>0</td>\n",
       "      <td>...</td>\n",
       "      <td>0</td>\n",
       "      <td>0</td>\n",
       "      <td>0</td>\n",
       "      <td>0</td>\n",
       "      <td>0</td>\n",
       "      <td>0</td>\n",
       "      <td>0</td>\n",
       "      <td>0</td>\n",
       "      <td>0</td>\n",
       "      <td>0</td>\n",
       "    </tr>\n",
       "    <tr>\n",
       "      <th>2</th>\n",
       "      <td>1</td>\n",
       "      <td>0</td>\n",
       "      <td>0</td>\n",
       "      <td>0</td>\n",
       "      <td>0</td>\n",
       "      <td>0</td>\n",
       "      <td>0</td>\n",
       "      <td>0</td>\n",
       "      <td>0</td>\n",
       "      <td>0</td>\n",
       "      <td>...</td>\n",
       "      <td>0</td>\n",
       "      <td>0</td>\n",
       "      <td>0</td>\n",
       "      <td>0</td>\n",
       "      <td>0</td>\n",
       "      <td>0</td>\n",
       "      <td>0</td>\n",
       "      <td>0</td>\n",
       "      <td>0</td>\n",
       "      <td>0</td>\n",
       "    </tr>\n",
       "    <tr>\n",
       "      <th>3</th>\n",
       "      <td>4</td>\n",
       "      <td>0</td>\n",
       "      <td>0</td>\n",
       "      <td>0</td>\n",
       "      <td>0</td>\n",
       "      <td>0</td>\n",
       "      <td>0</td>\n",
       "      <td>0</td>\n",
       "      <td>0</td>\n",
       "      <td>0</td>\n",
       "      <td>...</td>\n",
       "      <td>0</td>\n",
       "      <td>0</td>\n",
       "      <td>0</td>\n",
       "      <td>0</td>\n",
       "      <td>0</td>\n",
       "      <td>0</td>\n",
       "      <td>0</td>\n",
       "      <td>0</td>\n",
       "      <td>0</td>\n",
       "      <td>0</td>\n",
       "    </tr>\n",
       "    <tr>\n",
       "      <th>4</th>\n",
       "      <td>0</td>\n",
       "      <td>0</td>\n",
       "      <td>0</td>\n",
       "      <td>0</td>\n",
       "      <td>0</td>\n",
       "      <td>0</td>\n",
       "      <td>0</td>\n",
       "      <td>0</td>\n",
       "      <td>0</td>\n",
       "      <td>0</td>\n",
       "      <td>...</td>\n",
       "      <td>0</td>\n",
       "      <td>0</td>\n",
       "      <td>0</td>\n",
       "      <td>0</td>\n",
       "      <td>0</td>\n",
       "      <td>0</td>\n",
       "      <td>0</td>\n",
       "      <td>0</td>\n",
       "      <td>0</td>\n",
       "      <td>0</td>\n",
       "    </tr>\n",
       "  </tbody>\n",
       "</table>\n",
       "<p>5 rows × 785 columns</p>\n",
       "</div>"
      ],
      "text/plain": [
       "   label  pixel0  pixel1  pixel2  pixel3  pixel4  pixel5  pixel6  pixel7  \\\n",
       "0      1       0       0       0       0       0       0       0       0   \n",
       "1      0       0       0       0       0       0       0       0       0   \n",
       "2      1       0       0       0       0       0       0       0       0   \n",
       "3      4       0       0       0       0       0       0       0       0   \n",
       "4      0       0       0       0       0       0       0       0       0   \n",
       "\n",
       "   pixel8  ...  pixel774  pixel775  pixel776  pixel777  pixel778  pixel779  \\\n",
       "0       0  ...         0         0         0         0         0         0   \n",
       "1       0  ...         0         0         0         0         0         0   \n",
       "2       0  ...         0         0         0         0         0         0   \n",
       "3       0  ...         0         0         0         0         0         0   \n",
       "4       0  ...         0         0         0         0         0         0   \n",
       "\n",
       "   pixel780  pixel781  pixel782  pixel783  \n",
       "0         0         0         0         0  \n",
       "1         0         0         0         0  \n",
       "2         0         0         0         0  \n",
       "3         0         0         0         0  \n",
       "4         0         0         0         0  \n",
       "\n",
       "[5 rows x 785 columns]"
      ]
     },
     "execution_count": 4,
     "metadata": {},
     "output_type": "execute_result"
    }
   ],
   "source": [
    "df1=pd.read_csv('../input/digit-recognizer/train.csv')\n",
    "df1.head()"
   ]
  },
  {
   "cell_type": "code",
   "execution_count": 5,
   "id": "d9b0adfc",
   "metadata": {
    "execution": {
     "iopub.execute_input": "2024-07-22T15:27:18.931952Z",
     "iopub.status.busy": "2024-07-22T15:27:18.931026Z",
     "iopub.status.idle": "2024-07-22T15:27:18.935245Z",
     "shell.execute_reply": "2024-07-22T15:27:18.934649Z",
     "shell.execute_reply.started": "2024-06-21T06:45:03.065350Z"
    },
    "papermill": {
     "duration": 0.04722,
     "end_time": "2024-07-22T15:27:18.935432",
     "exception": false,
     "start_time": "2024-07-22T15:27:18.888212",
     "status": "completed"
    },
    "tags": []
   },
   "outputs": [
    {
     "data": {
      "text/plain": [
       "{0, 1, 2, 3, 4, 5, 6, 7, 8, 9}"
      ]
     },
     "execution_count": 5,
     "metadata": {},
     "output_type": "execute_result"
    }
   ],
   "source": [
    "df1_list = df1.label.tolist()\n",
    "df1_set = set(df1_list)\n",
    "df1_set"
   ]
  },
  {
   "cell_type": "code",
   "execution_count": 6,
   "id": "32dd1703",
   "metadata": {
    "execution": {
     "iopub.execute_input": "2024-07-22T15:27:19.003219Z",
     "iopub.status.busy": "2024-07-22T15:27:19.002397Z",
     "iopub.status.idle": "2024-07-22T15:27:21.407245Z",
     "shell.execute_reply": "2024-07-22T15:27:21.407873Z",
     "shell.execute_reply.started": "2024-06-21T06:42:40.416357Z"
    },
    "papermill": {
     "duration": 2.441647,
     "end_time": "2024-07-22T15:27:21.408076",
     "exception": false,
     "start_time": "2024-07-22T15:27:18.966429",
     "status": "completed"
    },
    "tags": []
   },
   "outputs": [
    {
     "data": {
      "text/html": [
       "<div>\n",
       "<style scoped>\n",
       "    .dataframe tbody tr th:only-of-type {\n",
       "        vertical-align: middle;\n",
       "    }\n",
       "\n",
       "    .dataframe tbody tr th {\n",
       "        vertical-align: top;\n",
       "    }\n",
       "\n",
       "    .dataframe thead th {\n",
       "        text-align: right;\n",
       "    }\n",
       "</style>\n",
       "<table border=\"1\" class=\"dataframe\">\n",
       "  <thead>\n",
       "    <tr style=\"text-align: right;\">\n",
       "      <th></th>\n",
       "      <th>pixel0</th>\n",
       "      <th>pixel1</th>\n",
       "      <th>pixel2</th>\n",
       "      <th>pixel3</th>\n",
       "      <th>pixel4</th>\n",
       "      <th>pixel5</th>\n",
       "      <th>pixel6</th>\n",
       "      <th>pixel7</th>\n",
       "      <th>pixel8</th>\n",
       "      <th>pixel9</th>\n",
       "      <th>...</th>\n",
       "      <th>pixel774</th>\n",
       "      <th>pixel775</th>\n",
       "      <th>pixel776</th>\n",
       "      <th>pixel777</th>\n",
       "      <th>pixel778</th>\n",
       "      <th>pixel779</th>\n",
       "      <th>pixel780</th>\n",
       "      <th>pixel781</th>\n",
       "      <th>pixel782</th>\n",
       "      <th>pixel783</th>\n",
       "    </tr>\n",
       "  </thead>\n",
       "  <tbody>\n",
       "    <tr>\n",
       "      <th>0</th>\n",
       "      <td>0</td>\n",
       "      <td>0</td>\n",
       "      <td>0</td>\n",
       "      <td>0</td>\n",
       "      <td>0</td>\n",
       "      <td>0</td>\n",
       "      <td>0</td>\n",
       "      <td>0</td>\n",
       "      <td>0</td>\n",
       "      <td>0</td>\n",
       "      <td>...</td>\n",
       "      <td>0</td>\n",
       "      <td>0</td>\n",
       "      <td>0</td>\n",
       "      <td>0</td>\n",
       "      <td>0</td>\n",
       "      <td>0</td>\n",
       "      <td>0</td>\n",
       "      <td>0</td>\n",
       "      <td>0</td>\n",
       "      <td>0</td>\n",
       "    </tr>\n",
       "    <tr>\n",
       "      <th>1</th>\n",
       "      <td>0</td>\n",
       "      <td>0</td>\n",
       "      <td>0</td>\n",
       "      <td>0</td>\n",
       "      <td>0</td>\n",
       "      <td>0</td>\n",
       "      <td>0</td>\n",
       "      <td>0</td>\n",
       "      <td>0</td>\n",
       "      <td>0</td>\n",
       "      <td>...</td>\n",
       "      <td>0</td>\n",
       "      <td>0</td>\n",
       "      <td>0</td>\n",
       "      <td>0</td>\n",
       "      <td>0</td>\n",
       "      <td>0</td>\n",
       "      <td>0</td>\n",
       "      <td>0</td>\n",
       "      <td>0</td>\n",
       "      <td>0</td>\n",
       "    </tr>\n",
       "    <tr>\n",
       "      <th>2</th>\n",
       "      <td>0</td>\n",
       "      <td>0</td>\n",
       "      <td>0</td>\n",
       "      <td>0</td>\n",
       "      <td>0</td>\n",
       "      <td>0</td>\n",
       "      <td>0</td>\n",
       "      <td>0</td>\n",
       "      <td>0</td>\n",
       "      <td>0</td>\n",
       "      <td>...</td>\n",
       "      <td>0</td>\n",
       "      <td>0</td>\n",
       "      <td>0</td>\n",
       "      <td>0</td>\n",
       "      <td>0</td>\n",
       "      <td>0</td>\n",
       "      <td>0</td>\n",
       "      <td>0</td>\n",
       "      <td>0</td>\n",
       "      <td>0</td>\n",
       "    </tr>\n",
       "    <tr>\n",
       "      <th>3</th>\n",
       "      <td>0</td>\n",
       "      <td>0</td>\n",
       "      <td>0</td>\n",
       "      <td>0</td>\n",
       "      <td>0</td>\n",
       "      <td>0</td>\n",
       "      <td>0</td>\n",
       "      <td>0</td>\n",
       "      <td>0</td>\n",
       "      <td>0</td>\n",
       "      <td>...</td>\n",
       "      <td>0</td>\n",
       "      <td>0</td>\n",
       "      <td>0</td>\n",
       "      <td>0</td>\n",
       "      <td>0</td>\n",
       "      <td>0</td>\n",
       "      <td>0</td>\n",
       "      <td>0</td>\n",
       "      <td>0</td>\n",
       "      <td>0</td>\n",
       "    </tr>\n",
       "    <tr>\n",
       "      <th>4</th>\n",
       "      <td>0</td>\n",
       "      <td>0</td>\n",
       "      <td>0</td>\n",
       "      <td>0</td>\n",
       "      <td>0</td>\n",
       "      <td>0</td>\n",
       "      <td>0</td>\n",
       "      <td>0</td>\n",
       "      <td>0</td>\n",
       "      <td>0</td>\n",
       "      <td>...</td>\n",
       "      <td>0</td>\n",
       "      <td>0</td>\n",
       "      <td>0</td>\n",
       "      <td>0</td>\n",
       "      <td>0</td>\n",
       "      <td>0</td>\n",
       "      <td>0</td>\n",
       "      <td>0</td>\n",
       "      <td>0</td>\n",
       "      <td>0</td>\n",
       "    </tr>\n",
       "  </tbody>\n",
       "</table>\n",
       "<p>5 rows × 784 columns</p>\n",
       "</div>"
      ],
      "text/plain": [
       "   pixel0  pixel1  pixel2  pixel3  pixel4  pixel5  pixel6  pixel7  pixel8  \\\n",
       "0       0       0       0       0       0       0       0       0       0   \n",
       "1       0       0       0       0       0       0       0       0       0   \n",
       "2       0       0       0       0       0       0       0       0       0   \n",
       "3       0       0       0       0       0       0       0       0       0   \n",
       "4       0       0       0       0       0       0       0       0       0   \n",
       "\n",
       "   pixel9  ...  pixel774  pixel775  pixel776  pixel777  pixel778  pixel779  \\\n",
       "0       0  ...         0         0         0         0         0         0   \n",
       "1       0  ...         0         0         0         0         0         0   \n",
       "2       0  ...         0         0         0         0         0         0   \n",
       "3       0  ...         0         0         0         0         0         0   \n",
       "4       0  ...         0         0         0         0         0         0   \n",
       "\n",
       "   pixel780  pixel781  pixel782  pixel783  \n",
       "0         0         0         0         0  \n",
       "1         0         0         0         0  \n",
       "2         0         0         0         0  \n",
       "3         0         0         0         0  \n",
       "4         0         0         0         0  \n",
       "\n",
       "[5 rows x 784 columns]"
      ]
     },
     "execution_count": 6,
     "metadata": {},
     "output_type": "execute_result"
    }
   ],
   "source": [
    "df2=pd.read_csv('../input/digit-recognizer/test.csv')\n",
    "df2.head()"
   ]
  },
  {
   "cell_type": "code",
   "execution_count": 7,
   "id": "a73acd9e",
   "metadata": {
    "execution": {
     "iopub.execute_input": "2024-07-22T15:27:21.592357Z",
     "iopub.status.busy": "2024-07-22T15:27:21.591190Z",
     "iopub.status.idle": "2024-07-22T15:27:21.593516Z",
     "shell.execute_reply": "2024-07-22T15:27:21.594098Z",
     "shell.execute_reply.started": "2024-06-21T06:46:02.932367Z"
    },
    "papermill": {
     "duration": 0.15354,
     "end_time": "2024-07-22T15:27:21.594290",
     "exception": false,
     "start_time": "2024-07-22T15:27:21.440750",
     "status": "completed"
    },
    "tags": []
   },
   "outputs": [],
   "source": [
    "X=df1.drop('label', axis=1)\n",
    "y=df1['label']"
   ]
  },
  {
   "cell_type": "code",
   "execution_count": 8,
   "id": "b47a387c",
   "metadata": {
    "execution": {
     "iopub.execute_input": "2024-07-22T15:27:21.667964Z",
     "iopub.status.busy": "2024-07-22T15:27:21.667138Z",
     "iopub.status.idle": "2024-07-22T15:27:21.976263Z",
     "shell.execute_reply": "2024-07-22T15:27:21.975424Z",
     "shell.execute_reply.started": "2024-06-21T06:49:36.195659Z"
    },
    "papermill": {
     "duration": 0.349714,
     "end_time": "2024-07-22T15:27:21.976471",
     "exception": false,
     "start_time": "2024-07-22T15:27:21.626757",
     "status": "completed"
    },
    "tags": []
   },
   "outputs": [],
   "source": [
    "X_train, X_test, y_train, y_test = train_test_split(X,y,test_size=0.25)"
   ]
  },
  {
   "cell_type": "code",
   "execution_count": 9,
   "id": "c28eb347",
   "metadata": {
    "execution": {
     "iopub.execute_input": "2024-07-22T15:27:22.059064Z",
     "iopub.status.busy": "2024-07-22T15:27:22.047832Z",
     "iopub.status.idle": "2024-07-22T15:27:22.130296Z",
     "shell.execute_reply": "2024-07-22T15:27:22.129507Z",
     "shell.execute_reply.started": "2024-06-21T06:49:39.785097Z"
    },
    "papermill": {
     "duration": 0.121435,
     "end_time": "2024-07-22T15:27:22.130474",
     "exception": false,
     "start_time": "2024-07-22T15:27:22.009039",
     "status": "completed"
    },
    "tags": []
   },
   "outputs": [],
   "source": [
    "X_train=X_train/255\n",
    "X_test=X_test/255"
   ]
  },
  {
   "cell_type": "code",
   "execution_count": 10,
   "id": "cf6e515e",
   "metadata": {
    "execution": {
     "iopub.execute_input": "2024-07-22T15:27:22.204201Z",
     "iopub.status.busy": "2024-07-22T15:27:22.203400Z",
     "iopub.status.idle": "2024-07-22T15:27:44.835510Z",
     "shell.execute_reply": "2024-07-22T15:27:44.834829Z",
     "shell.execute_reply.started": "2024-06-21T07:04:34.415699Z"
    },
    "papermill": {
     "duration": 22.671103,
     "end_time": "2024-07-22T15:27:44.835679",
     "exception": false,
     "start_time": "2024-07-22T15:27:22.164576",
     "status": "completed"
    },
    "tags": []
   },
   "outputs": [
    {
     "name": "stdout",
     "output_type": "stream",
     "text": [
      "Epoch 1/5\n",
      "985/985 [==============================] - 3s 2ms/step - loss: 0.3053 - accuracy: 0.9117\n",
      "Epoch 2/5\n",
      "985/985 [==============================] - 2s 2ms/step - loss: 0.1314 - accuracy: 0.9610\n",
      "Epoch 3/5\n",
      "985/985 [==============================] - 2s 2ms/step - loss: 0.0882 - accuracy: 0.9744\n",
      "Epoch 4/5\n",
      "985/985 [==============================] - 3s 3ms/step - loss: 0.0622 - accuracy: 0.9815\n",
      "Epoch 5/5\n",
      "985/985 [==============================] - 3s 3ms/step - loss: 0.0456 - accuracy: 0.9863\n"
     ]
    },
    {
     "data": {
      "text/plain": [
       "<keras.callbacks.History at 0x7cbee5a1c2d0>"
      ]
     },
     "execution_count": 10,
     "metadata": {},
     "output_type": "execute_result"
    }
   ],
   "source": [
    "model = keras.Sequential([\n",
    "    keras.layers.Dense(200, input_shape=(784,),activation='relu'),\n",
    "    keras.layers.Dense(10, activation='softmax')\n",
    "])\n",
    "\n",
    "\n",
    "model.compile(\n",
    "    optimizer='adam',\n",
    "    loss='sparse_categorical_crossentropy',\n",
    "    metrics=['accuracy']\n",
    ")\n",
    "\n",
    "model.fit(X_train,y_train,epochs=5)"
   ]
  },
  {
   "cell_type": "code",
   "execution_count": 11,
   "id": "465193f4",
   "metadata": {
    "execution": {
     "iopub.execute_input": "2024-07-22T15:27:45.135517Z",
     "iopub.status.busy": "2024-07-22T15:27:45.134412Z",
     "iopub.status.idle": "2024-07-22T15:27:45.995242Z",
     "shell.execute_reply": "2024-07-22T15:27:45.995976Z",
     "shell.execute_reply.started": "2024-06-21T07:04:52.685097Z"
    },
    "papermill": {
     "duration": 1.013392,
     "end_time": "2024-07-22T15:27:45.996171",
     "exception": false,
     "start_time": "2024-07-22T15:27:44.982779",
     "status": "completed"
    },
    "tags": []
   },
   "outputs": [
    {
     "name": "stdout",
     "output_type": "stream",
     "text": [
      "329/329 [==============================] - 1s 2ms/step - loss: 0.0974 - accuracy: 0.9693\n"
     ]
    },
    {
     "data": {
      "text/plain": [
       "[0.09739730507135391, 0.9693333506584167]"
      ]
     },
     "execution_count": 11,
     "metadata": {},
     "output_type": "execute_result"
    }
   ],
   "source": [
    "model.evaluate(X_test, y_test)"
   ]
  },
  {
   "cell_type": "code",
   "execution_count": 12,
   "id": "8d8ab081",
   "metadata": {
    "execution": {
     "iopub.execute_input": "2024-07-22T15:27:46.309767Z",
     "iopub.status.busy": "2024-07-22T15:27:46.308238Z",
     "iopub.status.idle": "2024-07-22T15:27:46.980825Z",
     "shell.execute_reply": "2024-07-22T15:27:46.980085Z",
     "shell.execute_reply.started": "2024-06-21T07:04:59.038204Z"
    },
    "papermill": {
     "duration": 0.832462,
     "end_time": "2024-07-22T15:27:46.980987",
     "exception": false,
     "start_time": "2024-07-22T15:27:46.148525",
     "status": "completed"
    },
    "tags": []
   },
   "outputs": [],
   "source": [
    "y_pred = model.predict(X_test)"
   ]
  },
  {
   "cell_type": "code",
   "execution_count": 13,
   "id": "aa26e10c",
   "metadata": {
    "execution": {
     "iopub.execute_input": "2024-07-22T15:27:47.297667Z",
     "iopub.status.busy": "2024-07-22T15:27:47.296708Z",
     "iopub.status.idle": "2024-07-22T15:27:47.300439Z",
     "shell.execute_reply": "2024-07-22T15:27:47.301046Z",
     "shell.execute_reply.started": "2024-06-21T07:05:02.705225Z"
    },
    "papermill": {
     "duration": 0.166756,
     "end_time": "2024-07-22T15:27:47.301245",
     "exception": false,
     "start_time": "2024-07-22T15:27:47.134489",
     "status": "completed"
    },
    "tags": []
   },
   "outputs": [
    {
     "data": {
      "text/plain": [
       "array([2.7157581e-09, 4.4305327e-07, 1.6186522e-06, 9.9999511e-01,\n",
       "       3.0598656e-11, 1.8854785e-06, 1.1904167e-12, 2.1406007e-11,\n",
       "       6.7964419e-07, 1.7021773e-07], dtype=float32)"
      ]
     },
     "execution_count": 13,
     "metadata": {},
     "output_type": "execute_result"
    }
   ],
   "source": [
    "y_pred[0]"
   ]
  },
  {
   "cell_type": "code",
   "execution_count": 14,
   "id": "9d0eb78e",
   "metadata": {
    "execution": {
     "iopub.execute_input": "2024-07-22T15:27:47.615709Z",
     "iopub.status.busy": "2024-07-22T15:27:47.614807Z",
     "iopub.status.idle": "2024-07-22T15:27:47.619693Z",
     "shell.execute_reply": "2024-07-22T15:27:47.619093Z",
     "shell.execute_reply.started": "2024-06-21T07:05:06.464532Z"
    },
    "papermill": {
     "duration": 0.164249,
     "end_time": "2024-07-22T15:27:47.619858",
     "exception": false,
     "start_time": "2024-07-22T15:27:47.455609",
     "status": "completed"
    },
    "tags": []
   },
   "outputs": [
    {
     "data": {
      "text/plain": [
       "7"
      ]
     },
     "execution_count": 14,
     "metadata": {},
     "output_type": "execute_result"
    }
   ],
   "source": [
    "np.argmax(y_pred[8])"
   ]
  },
  {
   "cell_type": "code",
   "execution_count": 15,
   "id": "00a7e5cc",
   "metadata": {
    "execution": {
     "iopub.execute_input": "2024-07-22T15:27:47.934297Z",
     "iopub.status.busy": "2024-07-22T15:27:47.933561Z",
     "iopub.status.idle": "2024-07-22T15:27:47.974915Z",
     "shell.execute_reply": "2024-07-22T15:27:47.974260Z",
     "shell.execute_reply.started": "2024-06-21T07:05:09.964416Z"
    },
    "papermill": {
     "duration": 0.200531,
     "end_time": "2024-07-22T15:27:47.975079",
     "exception": false,
     "start_time": "2024-07-22T15:27:47.774548",
     "status": "completed"
    },
    "tags": []
   },
   "outputs": [
    {
     "data": {
      "text/plain": [
       "[3, 5, 6, 9, 1]"
      ]
     },
     "execution_count": 15,
     "metadata": {},
     "output_type": "execute_result"
    }
   ],
   "source": [
    "y_pred_label=[np.argmax(i) for i in y_pred]\n",
    "y_pred_label[:5]"
   ]
  },
  {
   "cell_type": "code",
   "execution_count": 16,
   "id": "e2107a5a",
   "metadata": {
    "execution": {
     "iopub.execute_input": "2024-07-22T15:27:48.300197Z",
     "iopub.status.busy": "2024-07-22T15:27:48.299398Z",
     "iopub.status.idle": "2024-07-22T15:27:48.323343Z",
     "shell.execute_reply": "2024-07-22T15:27:48.322768Z",
     "shell.execute_reply.started": "2024-06-21T07:05:12.567417Z"
    },
    "papermill": {
     "duration": 0.19382,
     "end_time": "2024-07-22T15:27:48.323520",
     "exception": false,
     "start_time": "2024-07-22T15:27:48.129700",
     "status": "completed"
    },
    "tags": []
   },
   "outputs": [
    {
     "data": {
      "text/plain": [
       "<tf.Tensor: shape=(10, 10), dtype=int32, numpy=\n",
       "array([[1054,    0,    2,    0,    0,    1,    2,    1,    5,    0],\n",
       "       [   0, 1166,    2,    5,    1,    0,    0,    2,    3,    1],\n",
       "       [   4,    2,  981,    6,    0,    1,    0,    4,    3,    2],\n",
       "       [   3,    2,    2, 1085,    0,    7,    1,    4,    6,    2],\n",
       "       [   2,    3,    2,    2,  941,    1,    8,    3,    1,   15],\n",
       "       [   3,    0,    0,   30,    1,  878,   11,    0,    9,    4],\n",
       "       [   6,    2,    0,    0,    5,    2, 1018,    0,    4,    0],\n",
       "       [   2,    2,    7,    4,    1,    0,    0, 1051,    1,    2],\n",
       "       [   3,    2,    4,   20,    4,    7,    2,    4, 1010,    2],\n",
       "       [   6,    0,    2,   18,    6,    3,    0,   25,    7,  994]],\n",
       "      dtype=int32)>"
      ]
     },
     "execution_count": 16,
     "metadata": {},
     "output_type": "execute_result"
    }
   ],
   "source": [
    "cm = tf.math.confusion_matrix(labels=y_test, predictions=y_pred_label)\n",
    "cm"
   ]
  },
  {
   "cell_type": "code",
   "execution_count": 17,
   "id": "1d858178",
   "metadata": {
    "execution": {
     "iopub.execute_input": "2024-07-22T15:27:48.642901Z",
     "iopub.status.busy": "2024-07-22T15:27:48.641742Z",
     "iopub.status.idle": "2024-07-22T15:27:49.503236Z",
     "shell.execute_reply": "2024-07-22T15:27:49.503877Z",
     "shell.execute_reply.started": "2024-06-21T07:05:16.485974Z"
    },
    "papermill": {
     "duration": 1.02391,
     "end_time": "2024-07-22T15:27:49.504072",
     "exception": false,
     "start_time": "2024-07-22T15:27:48.480162",
     "status": "completed"
    },
    "tags": []
   },
   "outputs": [
    {
     "data": {
      "image/png": "[encoded data removed]",
      "text/plain": [
       "<Figure size 720x504 with 2 Axes>"
      ]
     },
     "metadata": {
      "needs_background": "light"
     },
     "output_type": "display_data"
    }
   ],
   "source": [
    "import seaborn as sns\n",
    "plt.figure(figsize=(10,7))\n",
    "sns.heatmap(cm,annot=True, fmt='d',linewidths=0.5,cmap=\"YlGnBu\")\n",
    "plt.xlabel('Predicted')\n",
    "plt.ylabel('Actual')\n",
    "plt.show();"
   ]
  },
  {
   "cell_type": "markdown",
   "id": "841b26a1",
   "metadata": {
    "papermill": {
     "duration": 0.156379,
     "end_time": "2024-07-22T15:27:49.819067",
     "exception": false,
     "start_time": "2024-07-22T15:27:49.662688",
     "status": "completed"
    },
    "tags": []
   },
   "source": [
    "# Pred"
   ]
  },
  {
   "cell_type": "code",
   "execution_count": 18,
   "id": "f8aecd74",
   "metadata": {
    "execution": {
     "iopub.execute_input": "2024-07-22T15:27:50.147423Z",
     "iopub.status.busy": "2024-07-22T15:27:50.145982Z",
     "iopub.status.idle": "2024-07-22T15:27:50.188920Z",
     "shell.execute_reply": "2024-07-22T15:27:50.188157Z",
     "shell.execute_reply.started": "2024-06-21T07:05:21.262041Z"
    },
    "papermill": {
     "duration": 0.214063,
     "end_time": "2024-07-22T15:27:50.189083",
     "exception": false,
     "start_time": "2024-07-22T15:27:49.975020",
     "status": "completed"
    },
    "tags": []
   },
   "outputs": [],
   "source": [
    "df2=df2/255"
   ]
  },
  {
   "cell_type": "code",
   "execution_count": 19,
   "id": "223720fb",
   "metadata": {
    "execution": {
     "iopub.execute_input": "2024-07-22T15:27:50.512306Z",
     "iopub.status.busy": "2024-07-22T15:27:50.511216Z",
     "iopub.status.idle": "2024-07-22T15:27:52.147617Z",
     "shell.execute_reply": "2024-07-22T15:27:52.146809Z",
     "shell.execute_reply.started": "2024-06-21T07:05:23.515090Z"
    },
    "papermill": {
     "duration": 1.799617,
     "end_time": "2024-07-22T15:27:52.147805",
     "exception": false,
     "start_time": "2024-07-22T15:27:50.348188",
     "status": "completed"
    },
    "tags": []
   },
   "outputs": [],
   "source": [
    "pred = model.predict(df2)"
   ]
  },
  {
   "cell_type": "code",
   "execution_count": 20,
   "id": "67598b6a",
   "metadata": {
    "execution": {
     "iopub.execute_input": "2024-07-22T15:27:52.473511Z",
     "iopub.status.busy": "2024-07-22T15:27:52.472692Z",
     "iopub.status.idle": "2024-07-22T15:27:52.573221Z",
     "shell.execute_reply": "2024-07-22T15:27:52.573894Z",
     "shell.execute_reply.started": "2024-06-21T07:05:29.963099Z"
    },
    "papermill": {
     "duration": 0.265881,
     "end_time": "2024-07-22T15:27:52.574092",
     "exception": false,
     "start_time": "2024-07-22T15:27:52.308211",
     "status": "completed"
    },
    "tags": []
   },
   "outputs": [
    {
     "data": {
      "text/plain": [
       "[2, 0, 9, 9, 3]"
      ]
     },
     "execution_count": 20,
     "metadata": {},
     "output_type": "execute_result"
    }
   ],
   "source": [
    "pred_label=[np.argmax(i) for i in pred]\n",
    "pred_label[:5]"
   ]
  },
  {
   "cell_type": "code",
   "execution_count": 21,
   "id": "d7cf38b6",
   "metadata": {
    "execution": {
     "iopub.execute_input": "2024-07-22T15:27:52.897226Z",
     "iopub.status.busy": "2024-07-22T15:27:52.896431Z",
     "iopub.status.idle": "2024-07-22T15:27:52.989206Z",
     "shell.execute_reply": "2024-07-22T15:27:52.988531Z",
     "shell.execute_reply.started": "2024-06-21T07:05:32.969896Z"
    },
    "papermill": {
     "duration": 0.256156,
     "end_time": "2024-07-22T15:27:52.989364",
     "exception": false,
     "start_time": "2024-07-22T15:27:52.733208",
     "status": "completed"
    },
    "tags": []
   },
   "outputs": [],
   "source": [
    "sub=pd.read_csv('../input/digit-recognizer/sample_submission.csv')\n",
    "sub['Label']=pred_label\n",
    "sub.to_csv('submission.csv', index=False)"
   ]
  },
  {
   "cell_type": "code",
   "execution_count": null,
   "id": "3675625d",
   "metadata": {
    "papermill": {
     "duration": 0.180768,
     "end_time": "2024-07-22T15:27:53.333194",
     "exception": false,
     "start_time": "2024-07-22T15:27:53.152426",
     "status": "completed"
    },
    "tags": []
   },
   "outputs": [],
   "source": []
  }
 ],
 "metadata": {
  "kaggle": {
   "accelerator": "none",
   "dataSources": [
    {
     "databundleVersionId": 861823,
     "sourceId": 3004,
     "sourceType": "competition"
    }
   ],
   "dockerImageVersionId": 30176,
   "isGpuEnabled": false,
   "isInternetEnabled": true,
   "language": "python",
   "sourceType": "notebook"
  },
  "kernelspec": {
   "display_name": "Python 3",
   "language": "python",
   "name": "python3"
  },
  "language_info": {
   "codemirror_mode": {
    "name": "ipython",
    "version": 3
   },
   "file_extension": ".py",
   "mimetype": "text/x-python",
   "name": "python",
   "nbconvert_exporter": "python",
   "pygments_lexer": "ipython3",
   "version": "3.7.12"
  },
  "papermill": {
   "default_parameters": {},
   "duration": 59.919336,
   "end_time": "2024-07-22T15:27:56.307917",
   "environment_variables": {},
   "exception": null,
   "input_path": "__notebook__.ipynb",
   "output_path": "__notebook__.ipynb",
   "parameters": {},
   "start_time": "2024-07-22T15:26:56.388581",
   "version": "2.3.3"
  }
 },
 "nbformat": 4,
 "nbformat_minor": 5
}
